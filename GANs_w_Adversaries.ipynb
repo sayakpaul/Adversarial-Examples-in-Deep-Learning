{
  "nbformat": 4,
  "nbformat_minor": 0,
  "metadata": {
    "colab": {
      "name": "GANs_w_Adversaries.ipynb",
      "provenance": [],
      "collapsed_sections": [],
      "authorship_tag": "ABX9TyPzL9ozeev9OckSAqDJDlEu",
      "include_colab_link": true
    },
    "kernelspec": {
      "name": "python3",
      "display_name": "Python 3"
    },
    "accelerator": "GPU"
  },
  "cells": [
    {
      "cell_type": "markdown",
      "metadata": {
        "id": "view-in-github",
        "colab_type": "text"
      },
      "source": [
        "<a href=\"https://colab.research.google.com/github/sayakpaul/Image-Adversaries-101/blob/master/GANs_w_Adversaries.ipynb\" target=\"_parent\"><img src=\"https://colab.research.google.com/assets/colab-badge.svg\" alt=\"Open In Colab\"/></a>"
      ]
    },
    {
      "cell_type": "code",
      "metadata": {
        "id": "evdgWJ1M6k1Q",
        "colab_type": "code",
        "colab": {
          "base_uri": "https://localhost:8080/",
          "height": 34
        },
        "outputId": "6d7f9843-e2ee-4f37-d3fd-1dcfd7b11030"
      },
      "source": [
        "# Import TensorFlow as verify the version\n",
        "import tensorflow as tf\n",
        "print(tf.__version__)"
      ],
      "execution_count": 1,
      "outputs": [
        {
          "output_type": "stream",
          "text": [
            "2.2.0-rc3\n"
          ],
          "name": "stdout"
        }
      ]
    },
    {
      "cell_type": "code",
      "metadata": {
        "id": "pZgEZWIj6zfz",
        "colab_type": "code",
        "outputId": "75dc5438-9f81-4077-d613-073d9e5f06f8",
        "colab": {
          "base_uri": "https://localhost:8080/",
          "height": 306
        }
      },
      "source": [
        "# Which GPU?\n",
        "!nvidia-smi"
      ],
      "execution_count": 2,
      "outputs": [
        {
          "output_type": "stream",
          "text": [
            "Fri Apr 17 13:39:47 2020       \n",
            "+-----------------------------------------------------------------------------+\n",
            "| NVIDIA-SMI 440.64.00    Driver Version: 418.67       CUDA Version: 10.1     |\n",
            "|-------------------------------+----------------------+----------------------+\n",
            "| GPU  Name        Persistence-M| Bus-Id        Disp.A | Volatile Uncorr. ECC |\n",
            "| Fan  Temp  Perf  Pwr:Usage/Cap|         Memory-Usage | GPU-Util  Compute M. |\n",
            "|===============================+======================+======================|\n",
            "|   0  Tesla P100-PCIE...  Off  | 00000000:00:04.0 Off |                    0 |\n",
            "| N/A   43C    P0    30W / 250W |      0MiB / 16280MiB |      0%      Default |\n",
            "+-------------------------------+----------------------+----------------------+\n",
            "                                                                               \n",
            "+-----------------------------------------------------------------------------+\n",
            "| Processes:                                                       GPU Memory |\n",
            "|  GPU       PID   Type   Process name                             Usage      |\n",
            "|=============================================================================|\n",
            "|  No running processes found                                                 |\n",
            "+-----------------------------------------------------------------------------+\n"
          ],
          "name": "stdout"
        }
      ]
    },
    {
      "cell_type": "code",
      "metadata": {
        "id": "IL7QdHbH7ptO",
        "colab_type": "code",
        "colab": {}
      },
      "source": [
        "# Other imports\n",
        "from tensorflow.keras.layers import *\n",
        "from tensorflow.keras.models import *\n",
        "from imutils import build_montages\n",
        "from sklearn.utils import shuffle \n",
        "from tqdm import tqdm\n",
        "import matplotlib.pyplot as plt\n",
        "import numpy as np\n",
        "import cv2"
      ],
      "execution_count": 0,
      "outputs": []
    },
    {
      "cell_type": "code",
      "metadata": {
        "id": "tOxVL1Qz61pZ",
        "colab_type": "code",
        "outputId": "8016147d-2396-478e-ff3c-a0bfdb7f3957",
        "colab": {
          "base_uri": "https://localhost:8080/",
          "height": 170
        }
      },
      "source": [
        "# Load data\n",
        "((X_train, _), (X_test, _)) = tf.keras.datasets.fashion_mnist.load_data()\n",
        "X_train.shape, X_test.shape"
      ],
      "execution_count": 4,
      "outputs": [
        {
          "output_type": "stream",
          "text": [
            "Downloading data from https://storage.googleapis.com/tensorflow/tf-keras-datasets/train-labels-idx1-ubyte.gz\n",
            "32768/29515 [=================================] - 0s 0us/step\n",
            "Downloading data from https://storage.googleapis.com/tensorflow/tf-keras-datasets/train-images-idx3-ubyte.gz\n",
            "26427392/26421880 [==============================] - 0s 0us/step\n",
            "Downloading data from https://storage.googleapis.com/tensorflow/tf-keras-datasets/t10k-labels-idx1-ubyte.gz\n",
            "8192/5148 [===============================================] - 0s 0us/step\n",
            "Downloading data from https://storage.googleapis.com/tensorflow/tf-keras-datasets/t10k-images-idx3-ubyte.gz\n",
            "4423680/4422102 [==============================] - 0s 0us/step\n"
          ],
          "name": "stdout"
        },
        {
          "output_type": "execute_result",
          "data": {
            "text/plain": [
              "((60000, 28, 28), (10000, 28, 28))"
            ]
          },
          "metadata": {
            "tags": []
          },
          "execution_count": 4
        }
      ]
    },
    {
      "cell_type": "code",
      "metadata": {
        "id": "SzylG4pp7CoC",
        "colab_type": "code",
        "colab": {}
      },
      "source": [
        "# Add a channel dimension so that it is compatible with Conv2D\n",
        "X_train = X_train.reshape(-1, 28, 28, 1)\n",
        "X_test = X_test.reshape(-1, 28, 28, 1)"
      ],
      "execution_count": 0,
      "outputs": []
    },
    {
      "cell_type": "code",
      "metadata": {
        "id": "LW9QNjXw7J9n",
        "colab_type": "code",
        "colab": {}
      },
      "source": [
        "# Combine the train and test images and scale the the image pixel values to [-1, 1]\n",
        "trainImages = np.concatenate([X_train, X_test])\n",
        "trainImages = (trainImages.astype(\"float\") - 127.5) / 127.5"
      ],
      "execution_count": 0,
      "outputs": []
    },
    {
      "cell_type": "code",
      "metadata": {
        "id": "tXPxzNQL7l8K",
        "colab_type": "code",
        "colab": {}
      },
      "source": [
        "# Define the Hyperparameters\n",
        "latent_dim = 100\n",
        "height = 28\n",
        "width = 28\n",
        "nb_channels = 1"
      ],
      "execution_count": 0,
      "outputs": []
    },
    {
      "cell_type": "code",
      "metadata": {
        "id": "G4I6oLeX7xVa",
        "colab_type": "code",
        "colab": {}
      },
      "source": [
        "# Generator\n",
        "def generator_network():\n",
        "    generator = Sequential()\n",
        "    inputShape = (7, 7, 64)\n",
        "    chanDim = -1\n",
        "\n",
        "    generator.add(Dense(input_dim=latent_dim, units=512))\n",
        "    generator.add(LeakyReLU())\n",
        "    generator.add(BatchNormalization())\n",
        "\n",
        "    generator.add(Dense(7 * 7 * 64))\n",
        "    generator.add(LeakyReLU())\n",
        "    generator.add(BatchNormalization())\n",
        "\n",
        "    generator.add(Reshape(inputShape))\n",
        "    generator.add(Conv2DTranspose(32, (5, 5), strides=(2, 2),\n",
        "        padding=\"same\"))\n",
        "    generator.add((LeakyReLU()))\n",
        "    generator.add(BatchNormalization(axis=chanDim))\n",
        "\n",
        "    generator.add(Conv2DTranspose(nb_channels, (5, 5), strides=(2, 2),\n",
        "        padding=\"same\", activation=\"tanh\"))\n",
        "\n",
        "    return generator"
      ],
      "execution_count": 0,
      "outputs": []
    },
    {
      "cell_type": "code",
      "metadata": {
        "id": "d5B5vEWY7y5M",
        "colab_type": "code",
        "outputId": "65836cdc-7c24-4ea5-9351-0fe4ea4c1e56",
        "colab": {
          "base_uri": "https://localhost:8080/",
          "height": 527
        }
      },
      "source": [
        "# Instantiate the Generator network\n",
        "generator = generator_network()\n",
        "generator.summary()"
      ],
      "execution_count": 9,
      "outputs": [
        {
          "output_type": "stream",
          "text": [
            "Model: \"sequential\"\n",
            "_________________________________________________________________\n",
            "Layer (type)                 Output Shape              Param #   \n",
            "=================================================================\n",
            "dense (Dense)                (None, 512)               51712     \n",
            "_________________________________________________________________\n",
            "leaky_re_lu (LeakyReLU)      (None, 512)               0         \n",
            "_________________________________________________________________\n",
            "batch_normalization (BatchNo (None, 512)               2048      \n",
            "_________________________________________________________________\n",
            "dense_1 (Dense)              (None, 3136)              1608768   \n",
            "_________________________________________________________________\n",
            "leaky_re_lu_1 (LeakyReLU)    (None, 3136)              0         \n",
            "_________________________________________________________________\n",
            "batch_normalization_1 (Batch (None, 3136)              12544     \n",
            "_________________________________________________________________\n",
            "reshape (Reshape)            (None, 7, 7, 64)          0         \n",
            "_________________________________________________________________\n",
            "conv2d_transpose (Conv2DTran (None, 14, 14, 32)        51232     \n",
            "_________________________________________________________________\n",
            "leaky_re_lu_2 (LeakyReLU)    (None, 14, 14, 32)        0         \n",
            "_________________________________________________________________\n",
            "batch_normalization_2 (Batch (None, 14, 14, 32)        128       \n",
            "_________________________________________________________________\n",
            "conv2d_transpose_1 (Conv2DTr (None, 28, 28, 1)         801       \n",
            "=================================================================\n",
            "Total params: 1,727,233\n",
            "Trainable params: 1,719,873\n",
            "Non-trainable params: 7,360\n",
            "_________________________________________________________________\n"
          ],
          "name": "stdout"
        }
      ]
    },
    {
      "cell_type": "code",
      "metadata": {
        "id": "pDZxoMb58IpK",
        "colab_type": "code",
        "colab": {}
      },
      "source": [
        "# Discriminator\n",
        "def disc_network():\n",
        "    disc = Sequential()\n",
        "    inputShape = (height, width, nb_channels)\n",
        "\n",
        "    disc.add(Conv2D(32, (5, 5), padding=\"same\", strides=(2, 2),\n",
        "        input_shape=inputShape))\n",
        "    disc.add(LeakyReLU(alpha=0.2))\n",
        "\n",
        "    disc.add(Conv2D(64, (5, 5), padding=\"same\", strides=(2, 2)))\n",
        "    disc.add(LeakyReLU(alpha=0.2))\n",
        "\n",
        "    disc.add(Flatten())\n",
        "    disc.add(Dense(512))\n",
        "    disc.add(LeakyReLU(alpha=0.2))\n",
        "    disc.add(Dropout(0.3))\n",
        "    disc.add(Dense(1))\n",
        "    disc.add(Activation(\"sigmoid\"))\n",
        "    \n",
        "    return disc"
      ],
      "execution_count": 0,
      "outputs": []
    },
    {
      "cell_type": "code",
      "metadata": {
        "id": "0sGntIQF8XjR",
        "colab_type": "code",
        "outputId": "c1878583-1da7-43ed-bdce-548c68f4093e",
        "colab": {
          "base_uri": "https://localhost:8080/",
          "height": 493
        }
      },
      "source": [
        "# Instantiate the Discriminator network\n",
        "disc = disc_network()\n",
        "disc.summary()"
      ],
      "execution_count": 11,
      "outputs": [
        {
          "output_type": "stream",
          "text": [
            "Model: \"sequential_1\"\n",
            "_________________________________________________________________\n",
            "Layer (type)                 Output Shape              Param #   \n",
            "=================================================================\n",
            "conv2d (Conv2D)              (None, 14, 14, 32)        832       \n",
            "_________________________________________________________________\n",
            "leaky_re_lu_3 (LeakyReLU)    (None, 14, 14, 32)        0         \n",
            "_________________________________________________________________\n",
            "conv2d_1 (Conv2D)            (None, 7, 7, 64)          51264     \n",
            "_________________________________________________________________\n",
            "leaky_re_lu_4 (LeakyReLU)    (None, 7, 7, 64)          0         \n",
            "_________________________________________________________________\n",
            "flatten (Flatten)            (None, 3136)              0         \n",
            "_________________________________________________________________\n",
            "dense_2 (Dense)              (None, 512)               1606144   \n",
            "_________________________________________________________________\n",
            "leaky_re_lu_5 (LeakyReLU)    (None, 512)               0         \n",
            "_________________________________________________________________\n",
            "dropout (Dropout)            (None, 512)               0         \n",
            "_________________________________________________________________\n",
            "dense_3 (Dense)              (None, 1)                 513       \n",
            "_________________________________________________________________\n",
            "activation (Activation)      (None, 1)                 0         \n",
            "=================================================================\n",
            "Total params: 1,658,753\n",
            "Trainable params: 1,658,753\n",
            "Non-trainable params: 0\n",
            "_________________________________________________________________\n"
          ],
          "name": "stdout"
        }
      ]
    },
    {
      "cell_type": "code",
      "metadata": {
        "id": "Hxuad7i28dUr",
        "colab_type": "code",
        "colab": {}
      },
      "source": [
        "# Optimizer for the Disc\n",
        "disc_opt = tf.keras.optimizers.RMSprop(lr=0.0008, clipvalue=1.0, decay=1e-8)\n",
        "disc.compile(optimizer=disc_opt, loss=\"binary_crossentropy\")"
      ],
      "execution_count": 0,
      "outputs": []
    },
    {
      "cell_type": "code",
      "metadata": {
        "id": "1Nrlh3Tw8hJq",
        "colab_type": "code",
        "colab": {}
      },
      "source": [
        "# GAN\n",
        "disc.trainable = False\n",
        "gan_input = Input(shape=(latent_dim, ))\n",
        "gan_output = disc(generator(gan_input))\n",
        "gan = Model(gan_input, gan_output)\n",
        "\n",
        "gan_opt = tf.keras.optimizers.RMSprop(lr=0.0008, clipvalue=1.0, decay=1e-8)\n",
        "gan.compile(loss=\"binary_crossentropy\", optimizer=gan_opt)"
      ],
      "execution_count": 0,
      "outputs": []
    },
    {
      "cell_type": "code",
      "metadata": {
        "id": "9m5MrmSt8m2I",
        "colab_type": "code",
        "outputId": "748200ae-3b8b-4a25-aab2-49f6bb7b0c89",
        "colab": {
          "base_uri": "https://localhost:8080/",
          "height": 255
        }
      },
      "source": [
        "# Summary of the GAN architecture\n",
        "gan.summary()"
      ],
      "execution_count": 14,
      "outputs": [
        {
          "output_type": "stream",
          "text": [
            "Model: \"model\"\n",
            "_________________________________________________________________\n",
            "Layer (type)                 Output Shape              Param #   \n",
            "=================================================================\n",
            "input_1 (InputLayer)         [(None, 100)]             0         \n",
            "_________________________________________________________________\n",
            "sequential (Sequential)      (None, 28, 28, 1)         1727233   \n",
            "_________________________________________________________________\n",
            "sequential_1 (Sequential)    (None, 1)                 1658753   \n",
            "=================================================================\n",
            "Total params: 3,385,986\n",
            "Trainable params: 1,719,873\n",
            "Non-trainable params: 1,666,113\n",
            "_________________________________________________________________\n"
          ],
          "name": "stdout"
        }
      ]
    },
    {
      "cell_type": "code",
      "metadata": {
        "id": "-v6L5Zv48yh2",
        "colab_type": "code",
        "colab": {}
      },
      "source": [
        "# More hyperparameters\n",
        "epochs = 10000\n",
        "batch_size = 20"
      ],
      "execution_count": 0,
      "outputs": []
    },
    {
      "cell_type": "code",
      "metadata": {
        "id": "M1OMjLS581nQ",
        "colab_type": "code",
        "outputId": "83c9e1d7-73ac-40c7-a657-e5b09ed9ac3d",
        "colab": {
          "base_uri": "https://localhost:8080/",
          "height": 374
        }
      },
      "source": [
        "# Start training\n",
        "################\n",
        "start = 0\n",
        "for epoch in tqdm(range(epochs)):\n",
        "    # Sample random noise from a normal distribution\n",
        "    benchmark_noise = np.random.normal(size=(batch_size, latent_dim))\n",
        "    # Map this noise to images via the generator network\n",
        "    generated_images = generator.predict(benchmark_noise)\n",
        "    \n",
        "    # Calculate where to stop the current epoch, segregate the current batch\n",
        "    # of real images and combine them with the fake ones\n",
        "    stop = start + batch_size\n",
        "    real_images = trainImages[start:stop]\n",
        "    combined_images = np.concatenate([generated_images, real_images])\n",
        "    \n",
        "    # 1 -> Fake images, 0 -> Real images\n",
        "    # Add a bit of random noise to the labels\n",
        "    labels = np.array(([1] * batch_size) + ([0] * batch_size)).astype(\"float\")\n",
        "    labels += 0.05 * np.random.random(labels.shape)\n",
        "    \n",
        "    # Shuffle the datapoints of the newly created dataset\n",
        "    (combined_images, labels) = shuffle(combined_images, labels)\n",
        "    \n",
        "    # Train the discriminator on these new dataset\n",
        "    d_loss = disc.train_on_batch(combined_images, labels)\n",
        "    \n",
        "    # Again sample random noise from a normal distribution &\n",
        "    # set the labels to such that they resemble real images to fool\n",
        "    # discriminator\n",
        "    random_latent_vectors = np.random.normal(size=(batch_size, latent_dim))\n",
        "    fake_labels = np.array([0] * batch_size)\n",
        "    \n",
        "    # Train the GAN with this random noise and fake labels, but only\n",
        "    # update the weights of generator\n",
        "    a_loss = gan.train_on_batch(random_latent_vectors, fake_labels)\n",
        "    \n",
        "    # Set the next batch\n",
        "    start += batch_size\n",
        "    if start > len(trainImages) - batch_size:\n",
        "        start = 0\n",
        "    \n",
        "    # Logging\n",
        "    if epoch % 500 == 0:\n",
        "        print(f\"Step: {epoch} Disc Loss: {d_loss} Adv Loss: {a_loss}\")\n",
        "        images = ((generated_images * 127.5) + 127.5).astype(\"int\")\n",
        "        images = np.repeat(images, 3, axis=-1)\n",
        "        vis = build_montages(images, (28, 28), (4, 5))[0]\n",
        "        cv2.imwrite(\"vis\" + str(epoch) + \".png\", vis)"
      ],
      "execution_count": 16,
      "outputs": [
        {
          "output_type": "stream",
          "text": [
            "  0%|          | 3/10000 [00:08<17:03:54,  6.15s/it]"
          ],
          "name": "stderr"
        },
        {
          "output_type": "stream",
          "text": [
            "Step: 0 Disc Loss: 0.687881350517273 Adv Loss: 0.14508673548698425\n"
          ],
          "name": "stdout"
        },
        {
          "output_type": "stream",
          "text": [
            "  5%|▌         | 503/10000 [00:33<07:38, 20.73it/s]"
          ],
          "name": "stderr"
        },
        {
          "output_type": "stream",
          "text": [
            "Step: 500 Disc Loss: 0.47640880942344666 Adv Loss: 1.350799798965454\n"
          ],
          "name": "stdout"
        },
        {
          "output_type": "stream",
          "text": [
            " 10%|█         | 1003/10000 [00:57<07:16, 20.63it/s]"
          ],
          "name": "stderr"
        },
        {
          "output_type": "stream",
          "text": [
            "Step: 1000 Disc Loss: 0.49821704626083374 Adv Loss: 1.7119624614715576\n"
          ],
          "name": "stdout"
        },
        {
          "output_type": "stream",
          "text": [
            " 15%|█▌        | 1504/10000 [01:21<07:10, 19.76it/s]"
          ],
          "name": "stderr"
        },
        {
          "output_type": "stream",
          "text": [
            "Step: 1500 Disc Loss: 0.49107104539871216 Adv Loss: 1.8809871673583984\n"
          ],
          "name": "stdout"
        },
        {
          "output_type": "stream",
          "text": [
            " 20%|██        | 2003/10000 [01:46<06:39, 20.03it/s]"
          ],
          "name": "stderr"
        },
        {
          "output_type": "stream",
          "text": [
            "Step: 2000 Disc Loss: 0.536552906036377 Adv Loss: 2.172856569290161\n"
          ],
          "name": "stdout"
        },
        {
          "output_type": "stream",
          "text": [
            " 25%|██▌       | 2503/10000 [02:10<06:07, 20.42it/s]"
          ],
          "name": "stderr"
        },
        {
          "output_type": "stream",
          "text": [
            "Step: 2500 Disc Loss: 0.2591400444507599 Adv Loss: 2.582822561264038\n"
          ],
          "name": "stdout"
        },
        {
          "output_type": "stream",
          "text": [
            " 30%|███       | 3004/10000 [02:34<05:43, 20.37it/s]"
          ],
          "name": "stderr"
        },
        {
          "output_type": "stream",
          "text": [
            "Step: 3000 Disc Loss: 0.4406290054321289 Adv Loss: 2.676551342010498\n"
          ],
          "name": "stdout"
        },
        {
          "output_type": "stream",
          "text": [
            " 35%|███▌      | 3503/10000 [02:59<05:14, 20.67it/s]"
          ],
          "name": "stderr"
        },
        {
          "output_type": "stream",
          "text": [
            "Step: 3500 Disc Loss: 0.28072601556777954 Adv Loss: 2.271653413772583\n"
          ],
          "name": "stdout"
        },
        {
          "output_type": "stream",
          "text": [
            " 40%|████      | 4004/10000 [03:24<04:51, 20.54it/s]"
          ],
          "name": "stderr"
        },
        {
          "output_type": "stream",
          "text": [
            "Step: 4000 Disc Loss: 0.4415341317653656 Adv Loss: 2.348633050918579\n"
          ],
          "name": "stdout"
        },
        {
          "output_type": "stream",
          "text": [
            " 45%|████▌     | 4505/10000 [03:48<04:24, 20.80it/s]"
          ],
          "name": "stderr"
        },
        {
          "output_type": "stream",
          "text": [
            "Step: 4500 Disc Loss: 0.3864983022212982 Adv Loss: 1.804436445236206\n"
          ],
          "name": "stdout"
        },
        {
          "output_type": "stream",
          "text": [
            " 50%|█████     | 5004/10000 [04:12<04:02, 20.63it/s]"
          ],
          "name": "stderr"
        },
        {
          "output_type": "stream",
          "text": [
            "Step: 5000 Disc Loss: 0.25370922684669495 Adv Loss: 2.260925054550171\n"
          ],
          "name": "stdout"
        },
        {
          "output_type": "stream",
          "text": [
            " 55%|█████▌    | 5504/10000 [04:37<03:38, 20.59it/s]"
          ],
          "name": "stderr"
        },
        {
          "output_type": "stream",
          "text": [
            "Step: 5500 Disc Loss: 0.4161396622657776 Adv Loss: 1.7695811986923218\n"
          ],
          "name": "stdout"
        },
        {
          "output_type": "stream",
          "text": [
            " 60%|██████    | 6002/10000 [05:01<03:32, 18.82it/s]"
          ],
          "name": "stderr"
        },
        {
          "output_type": "stream",
          "text": [
            "Step: 6000 Disc Loss: 0.40372294187545776 Adv Loss: 2.133988618850708\n"
          ],
          "name": "stdout"
        },
        {
          "output_type": "stream",
          "text": [
            " 65%|██████▌   | 6502/10000 [05:26<02:46, 21.03it/s]"
          ],
          "name": "stderr"
        },
        {
          "output_type": "stream",
          "text": [
            "Step: 6500 Disc Loss: 0.3453351855278015 Adv Loss: 1.365769863128662\n"
          ],
          "name": "stdout"
        },
        {
          "output_type": "stream",
          "text": [
            " 70%|███████   | 7003/10000 [05:51<02:22, 20.99it/s]"
          ],
          "name": "stderr"
        },
        {
          "output_type": "stream",
          "text": [
            "Step: 7000 Disc Loss: 0.3185539245605469 Adv Loss: 2.548447608947754\n"
          ],
          "name": "stdout"
        },
        {
          "output_type": "stream",
          "text": [
            " 75%|███████▌  | 7505/10000 [06:15<02:02, 20.36it/s]"
          ],
          "name": "stderr"
        },
        {
          "output_type": "stream",
          "text": [
            "Step: 7500 Disc Loss: 0.2985878586769104 Adv Loss: 2.064674139022827\n"
          ],
          "name": "stdout"
        },
        {
          "output_type": "stream",
          "text": [
            " 80%|████████  | 8004/10000 [06:40<01:38, 20.28it/s]"
          ],
          "name": "stderr"
        },
        {
          "output_type": "stream",
          "text": [
            "Step: 8000 Disc Loss: 0.42655688524246216 Adv Loss: 1.4810914993286133\n"
          ],
          "name": "stdout"
        },
        {
          "output_type": "stream",
          "text": [
            " 85%|████████▌ | 8503/10000 [07:04<01:13, 20.34it/s]"
          ],
          "name": "stderr"
        },
        {
          "output_type": "stream",
          "text": [
            "Step: 8500 Disc Loss: 0.52017742395401 Adv Loss: 1.9420932531356812\n"
          ],
          "name": "stdout"
        },
        {
          "output_type": "stream",
          "text": [
            " 90%|█████████ | 9004/10000 [07:28<00:49, 20.22it/s]"
          ],
          "name": "stderr"
        },
        {
          "output_type": "stream",
          "text": [
            "Step: 9000 Disc Loss: 0.5068351030349731 Adv Loss: 2.759629011154175\n"
          ],
          "name": "stdout"
        },
        {
          "output_type": "stream",
          "text": [
            " 95%|█████████▌| 9503/10000 [07:53<00:24, 20.39it/s]"
          ],
          "name": "stderr"
        },
        {
          "output_type": "stream",
          "text": [
            "Step: 9500 Disc Loss: 0.4068868160247803 Adv Loss: 2.576944351196289\n"
          ],
          "name": "stdout"
        },
        {
          "output_type": "stream",
          "text": [
            "100%|██████████| 10000/10000 [08:17<00:00, 20.08it/s]\n"
          ],
          "name": "stderr"
        }
      ]
    },
    {
      "cell_type": "markdown",
      "metadata": {
        "id": "PE6PpKI-9n-d",
        "colab_type": "text"
      },
      "source": [
        "## Generate images using the trained generator from random noise"
      ]
    },
    {
      "cell_type": "code",
      "metadata": {
        "id": "uHQaTTWv-0oQ",
        "colab_type": "code",
        "outputId": "67f2323a-8fa1-45bb-882d-c2c181cf9837",
        "colab": {
          "base_uri": "https://localhost:8080/",
          "height": 34
        }
      },
      "source": [
        "# Sample random noise from a normal distribution\n",
        "benchmark_noise = np.random.normal(size=(batch_size, latent_dim))\n",
        "# Map this noise to images via the generator network\n",
        "generated_images = generator.predict(benchmark_noise)\n",
        "# Scale back\n",
        "images = ((generated_images * 127.5) + 127.5).astype(\"int\")\n",
        "images.shape"
      ],
      "execution_count": 17,
      "outputs": [
        {
          "output_type": "execute_result",
          "data": {
            "text/plain": [
              "(20, 28, 28, 1)"
            ]
          },
          "metadata": {
            "tags": []
          },
          "execution_count": 17
        }
      ]
    },
    {
      "cell_type": "code",
      "metadata": {
        "id": "mofASNk8_EFA",
        "colab_type": "code",
        "outputId": "b01c837c-4c52-44da-fccb-ed539e9e661a",
        "colab": {
          "base_uri": "https://localhost:8080/",
          "height": 265
        }
      },
      "source": [
        "# How do the images look like?\n",
        "random_idx = np.random.choice(images.shape[0], 1)\n",
        "image_1 = images[random_idx].reshape(28, 28)\n",
        "plt.imshow(image_1, cmap=plt.cm.binary)\n",
        "plt.show()"
      ],
      "execution_count": 20,
      "outputs": [
        {
          "output_type": "display_data",
          "data": {
            "image/png": "[encoded data removed]",
            "text/plain": [
              "<Figure size 432x288 with 1 Axes>"
            ]
          },
          "metadata": {
            "tags": [],
            "needs_background": "light"
          }
        }
      ]
    },
    {
      "cell_type": "markdown",
      "metadata": {
        "id": "wlHCVh3F9v4c",
        "colab_type": "text"
      },
      "source": [
        "## Forming adversarial examples\n",
        "\n",
        "- Train an image classifier\n",
        "- Form examples"
      ]
    },
    {
      "cell_type": "code",
      "metadata": {
        "id": "zj9UF_j1X2hq",
        "colab_type": "code",
        "colab": {}
      },
      "source": [
        "# Define a utility function for the image classifier\n",
        "def get_train_model():\n",
        "    model = Sequential([\n",
        "        Conv2D(32, (3, 3), activation='relu', input_shape=(28, 28, 1)),\n",
        "        MaxPooling2D((2,2)),\n",
        "        Conv2D(64, (3, 3), activation='relu'),\n",
        "        MaxPooling2D((2,2)),\n",
        "        Conv2D(64, (3, 3), activation='relu')\n",
        "    ])\n",
        "\n",
        "    model.add(Flatten())\n",
        "    model.add(Dense(64, activation='relu'))\n",
        "    model.add(Dense(10, activation='softmax'))\n",
        "\n",
        "    model.compile(optimizer='adam',\n",
        "                loss='sparse_categorical_crossentropy',\n",
        "                metrics=['accuracy'])\n",
        "    \n",
        "    return model"
      ],
      "execution_count": 0,
      "outputs": []
    },
    {
      "cell_type": "code",
      "metadata": {
        "id": "pp5HxWUMYh3d",
        "colab_type": "code",
        "colab": {
          "base_uri": "https://localhost:8080/",
          "height": 357
        },
        "outputId": "5175eec8-5405-4ef7-bfd6-4a61f0409b7e"
      },
      "source": [
        "# Load the dataset again\n",
        "((X_train, y_train), (X_test, y_test)) = tf.keras.datasets.fashion_mnist.load_data()\n",
        "X_train = X_train.reshape(-1, 28, 28, 1)\n",
        "X_test = X_test.reshape(-1, 28, 28, 1)\n",
        "\n",
        "# Normalize the dataset\n",
        "X_train = X_train / 255.\n",
        "X_test = X_test / 255.\n",
        "\n",
        "# Train the model\n",
        "apparel_model = get_train_model()\n",
        "history = apparel_model.fit(X_train, y_train,\n",
        "                  validation_data=(X_test, y_test),\n",
        "                  batch_size=128,\n",
        "                  epochs=10)"
      ],
      "execution_count": 23,
      "outputs": [
        {
          "output_type": "stream",
          "text": [
            "Epoch 1/10\n",
            "469/469 [==============================] - 3s 5ms/step - loss: 0.6266 - accuracy: 0.7707 - val_loss: 0.4383 - val_accuracy: 0.8426\n",
            "Epoch 2/10\n",
            "469/469 [==============================] - 2s 5ms/step - loss: 0.3936 - accuracy: 0.8590 - val_loss: 0.3717 - val_accuracy: 0.8689\n",
            "Epoch 3/10\n",
            "469/469 [==============================] - 2s 5ms/step - loss: 0.3366 - accuracy: 0.8773 - val_loss: 0.3378 - val_accuracy: 0.8768\n",
            "Epoch 4/10\n",
            "469/469 [==============================] - 2s 5ms/step - loss: 0.3023 - accuracy: 0.8899 - val_loss: 0.3114 - val_accuracy: 0.8879\n",
            "Epoch 5/10\n",
            "469/469 [==============================] - 2s 5ms/step - loss: 0.2772 - accuracy: 0.8987 - val_loss: 0.2831 - val_accuracy: 0.8976\n",
            "Epoch 6/10\n",
            "469/469 [==============================] - 2s 5ms/step - loss: 0.2554 - accuracy: 0.9061 - val_loss: 0.2868 - val_accuracy: 0.8981\n",
            "Epoch 7/10\n",
            "469/469 [==============================] - 2s 5ms/step - loss: 0.2396 - accuracy: 0.9118 - val_loss: 0.2729 - val_accuracy: 0.9005\n",
            "Epoch 8/10\n",
            "469/469 [==============================] - 2s 5ms/step - loss: 0.2231 - accuracy: 0.9176 - val_loss: 0.2683 - val_accuracy: 0.9022\n",
            "Epoch 9/10\n",
            "469/469 [==============================] - 2s 5ms/step - loss: 0.2101 - accuracy: 0.9229 - val_loss: 0.2726 - val_accuracy: 0.9050\n",
            "Epoch 10/10\n",
            "469/469 [==============================] - 2s 5ms/step - loss: 0.1986 - accuracy: 0.9264 - val_loss: 0.2580 - val_accuracy: 0.9076\n"
          ],
          "name": "stdout"
        }
      ]
    },
    {
      "cell_type": "code",
      "metadata": {
        "id": "rYlYWtXkaFT0",
        "colab_type": "code",
        "colab": {
          "base_uri": "https://localhost:8080/",
          "height": 279
        },
        "outputId": "65ebb743-aae2-4560-ea4e-8b6c432602a1"
      },
      "source": [
        "# Plot training progress\n",
        "plt.plot(history.history[\"loss\"], label=\"train_loss\")\n",
        "plt.plot(history.history[\"val_loss\"], label=\"val_loss\")\n",
        "plt.plot(history.history[\"accuracy\"], label=\"train_acc\")\n",
        "plt.plot(history.history[\"val_accuracy\"], label=\"val_acc\")\n",
        "plt.xlabel(\"Epoch #\")\n",
        "plt.ylabel(\"Loss/Accuracy\")\n",
        "plt.legend(loc=\"lower left\")\n",
        "plt.show()"
      ],
      "execution_count": 27,
      "outputs": [
        {
          "output_type": "display_data",
          "data": {
            "image/png": "[encoded data removed]",
            "text/plain": [
              "<Figure size 432x288 with 1 Axes>"
            ]
          },
          "metadata": {
            "tags": [],
            "needs_background": "light"
          }
        }
      ]
    },
    {
      "cell_type": "code",
      "metadata": {
        "id": "DhA9iS9JcUx1",
        "colab_type": "code",
        "colab": {}
      },
      "source": [
        "# Define class labels\n",
        "LABELS = ['T-shirt/top', 'Trouser', 'Pullover', 'Dress', 'Coat',\n",
        "               'Sandal', 'Shirt', 'Sneaker', 'Bag', 'Ankle boot']"
      ],
      "execution_count": 0,
      "outputs": []
    },
    {
      "cell_type": "code",
      "metadata": {
        "id": "7C7hRsy_a7K5",
        "colab_type": "code",
        "colab": {}
      },
      "source": [
        "# Create adversarial example\n",
        "############################\n",
        "\n",
        "# Clipping utility so that the pixel values stay within [0,1]\n",
        "EPS = 1./10000\n",
        "\n",
        "def clip_eps(delta_tensor):\n",
        "    return tf.clip_by_value(delta_tensor, clip_value_min=-EPS, clip_value_max=EPS)\n",
        "\n",
        "def generate_adversaries_targeted(image_tensor, delta, \n",
        "    true_index, target_index, model):\n",
        "    # Loss and optimizer\n",
        "    scc_loss = tf.keras.losses.SparseCategoricalCrossentropy()\n",
        "    optimizer = tf.keras.optimizers.Adam(learning_rate=2e-1)\n",
        "\n",
        "    for t in range(300):\n",
        "        plt.show()\n",
        "        with tf.GradientTape() as tape:\n",
        "            tape.watch(delta)\n",
        "            inp = (image_tensor + delta)/255\n",
        "            predictions = model(inp, training=False)\n",
        "            loss = (- scc_loss(tf.convert_to_tensor([true_index]), predictions) + \n",
        "\t                    scc_loss(tf.convert_to_tensor([target_index]), predictions))\n",
        "            if t % 20 == 0:\n",
        "                print(t, loss.numpy())\n",
        "                # plt.imshow(50*delta.numpy().squeeze()+0.5)\n",
        "            \n",
        "        # Get the gradients\n",
        "        gradients = tape.gradient(loss, delta)\n",
        "        \n",
        "        # Update the weights\n",
        "        optimizer.apply_gradients([(gradients, delta)])\n",
        "\n",
        "        # Clip so that the delta values are within [0,1]\n",
        "        delta.assign_add(clip_eps(delta))\n",
        "\n",
        "    return delta\n",
        "\n",
        "def perturb_image(image, true, target, model):\n",
        "    # Load and preprocess image but a but without any `preprocess_input`\n",
        "    plt.imshow((image.reshape(28, 28)), cmap=plt.cm.binary)\n",
        "\n",
        "    # Add batch dim\n",
        "    image = np.expand_dims(image, 0)\n",
        "\n",
        "    # Generate predictions before any adversaries\n",
        "    unsafe_preds = model.predict(image)\n",
        "    print('Predicted before adv.:', LABELS[unsafe_preds[0].argmax()])\n",
        "\n",
        "    # Initialize the perturbation quantity\n",
        "    image_tensor = tf.constant(image*255, dtype=tf.float32)\n",
        "    delta = tf.Variable(tf.zeros_like(image_tensor), trainable=True)\n",
        "\n",
        "    # Get the adversary vector\n",
        "    delta_tensor = generate_adversaries_targeted(image_tensor, delta, true, target, model)\n",
        "\n",
        "    # See if the image changes\n",
        "    plt.imshow((image_tensor + delta_tensor).numpy().squeeze()/255, cmap=plt.cm.binary)\n",
        "    plt.show()\n",
        "\n",
        "    # Generate prediction\n",
        "    perturbed_image = (image_tensor + delta_tensor)/255\n",
        "    preds = model.predict(perturbed_image)\n",
        "    print('Predicted:', LABELS[preds[0].argmax()])\n",
        "\n",
        "    return (image_tensor + delta_tensor)/255"
      ],
      "execution_count": 0,
      "outputs": []
    },
    {
      "cell_type": "code",
      "metadata": {
        "id": "G5t8ILAjc_8s",
        "colab_type": "code",
        "colab": {
          "base_uri": "https://localhost:8080/",
          "height": 819
        },
        "outputId": "581e465f-c513-4fe9-bfe2-feff5d4a25dc"
      },
      "source": [
        "# Randomly select an image\n",
        "idx = int(np.random.choice(X_train.shape, 1))\n",
        "sample_image = X_train[idx]\n",
        "\n",
        "# Let's go (target -> Sandal (idx: 5))\n",
        "print(\"Original label \",LABELS[y_train[idx]])\n",
        "perturbed_image = perturb_image(sample_image, y_train[idx], 5, apparel_model)"
      ],
      "execution_count": 82,
      "outputs": [
        {
          "output_type": "stream",
          "text": [
            "Original label  T-shirt/top\n",
            "Predicted before adv.: T-shirt/top\n"
          ],
          "name": "stdout"
        },
        {
          "output_type": "display_data",
          "data": {
            "image/png": "[encoded data removed]",
            "text/plain": [
              "<Figure size 432x288 with 1 Axes>"
            ]
          },
          "metadata": {
            "tags": [],
            "needs_background": "light"
          }
        },
        {
          "output_type": "stream",
          "text": [
            "0 16.117859\n",
            "20 16.117216\n",
            "40 16.099031\n",
            "60 12.984386\n",
            "80 9.905032\n",
            "100 6.4673576\n",
            "120 3.6043863\n",
            "140 1.7249596\n",
            "160 0.06058836\n",
            "180 -1.2979188\n",
            "200 -2.7338905\n",
            "220 -4.0762415\n",
            "240 -6.040269\n",
            "260 -8.053326\n",
            "280 -10.19889\n"
          ],
          "name": "stdout"
        },
        {
          "output_type": "display_data",
          "data": {
            "image/png": "[encoded data removed]",
            "text/plain": [
              "<Figure size 432x288 with 1 Axes>"
            ]
          },
          "metadata": {
            "tags": [],
            "needs_background": "light"
          }
        },
        {
          "output_type": "stream",
          "text": [
            "Predicted: Sandal\n"
          ],
          "name": "stdout"
        }
      ]
    },
    {
      "cell_type": "markdown",
      "metadata": {
        "id": "j13P4BcF9zo1",
        "colab_type": "text"
      },
      "source": [
        "## Seeing if the adversarial examples are misclassified by the Discriminator of the GAN"
      ]
    },
    {
      "cell_type": "code",
      "metadata": {
        "id": "6UBKDYOnj_-p",
        "colab_type": "code",
        "colab": {
          "base_uri": "https://localhost:8080/",
          "height": 34
        },
        "outputId": "c8a16505-a3b2-4cde-d532-7babf638f397"
      },
      "source": [
        "# 0 -> Real image 1-> Fake image\n",
        "disc.predict_classes(perturbed_image)"
      ],
      "execution_count": 85,
      "outputs": [
        {
          "output_type": "execute_result",
          "data": {
            "text/plain": [
              "array([[1]], dtype=int32)"
            ]
          },
          "metadata": {
            "tags": []
          },
          "execution_count": 85
        }
      ]
    },
    {
      "cell_type": "markdown",
      "metadata": {
        "id": "-fdOzykGoOaW",
        "colab_type": "text"
      },
      "source": [
        "The generator is able to predict the perturbed image as a fake one. **But this does not draw any conclusion since we used a relatively simple and small dataset.**"
      ]
    }
  ]
}