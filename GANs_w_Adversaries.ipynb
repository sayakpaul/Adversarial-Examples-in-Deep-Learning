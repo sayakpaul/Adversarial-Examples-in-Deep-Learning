{
  "nbformat": 4,
  "nbformat_minor": 0,
  "metadata": {
    "colab": {
      "name": "GANs_w_Adversaries.ipynb",
      "provenance": [],
      "collapsed_sections": [],
      "authorship_tag": "ABX9TyMhGpAl/YW6bdNCCiD1z/Bd",
      "include_colab_link": true
    },
    "kernelspec": {
      "name": "python3",
      "display_name": "Python 3"
    },
    "accelerator": "GPU"
  },
  "cells": [
    {
      "cell_type": "markdown",
      "metadata": {
        "id": "view-in-github",
        "colab_type": "text"
      },
      "source": [
        "<a href=\"https://colab.research.google.com/github/sayakpaul/Image-Adversaries-101/blob/master/GANs_w_Adversaries.ipynb\" target=\"_parent\"><img src=\"https://colab.research.google.com/assets/colab-badge.svg\" alt=\"Open In Colab\"/></a>"
      ]
    },
    {
      "cell_type": "code",
      "metadata": {
        "id": "evdgWJ1M6k1Q",
        "colab_type": "code",
        "colab": {}
      },
      "source": [
        "# Import TensorFlow as verify the version\n",
        "import tensorflow as tf\n",
        "print(tf.__version__)"
      ],
      "execution_count": 0,
      "outputs": []
    },
    {
      "cell_type": "code",
      "metadata": {
        "id": "pZgEZWIj6zfz",
        "colab_type": "code",
        "colab": {
          "base_uri": "https://localhost:8080/",
          "height": 306
        },
        "outputId": "f0a3e0be-00b4-470f-f8f4-7111e3fe1407"
      },
      "source": [
        "# Which GPU?\n",
        "!nvidia-smi"
      ],
      "execution_count": 2,
      "outputs": [
        {
          "output_type": "stream",
          "text": [
            "Tue Apr 14 13:40:35 2020       \n",
            "+-----------------------------------------------------------------------------+\n",
            "| NVIDIA-SMI 440.64.00    Driver Version: 418.67       CUDA Version: 10.1     |\n",
            "|-------------------------------+----------------------+----------------------+\n",
            "| GPU  Name        Persistence-M| Bus-Id        Disp.A | Volatile Uncorr. ECC |\n",
            "| Fan  Temp  Perf  Pwr:Usage/Cap|         Memory-Usage | GPU-Util  Compute M. |\n",
            "|===============================+======================+======================|\n",
            "|   0  Tesla P100-PCIE...  Off  | 00000000:00:04.0 Off |                    0 |\n",
            "| N/A   35C    P0    26W / 250W |      0MiB / 16280MiB |      0%      Default |\n",
            "+-------------------------------+----------------------+----------------------+\n",
            "                                                                               \n",
            "+-----------------------------------------------------------------------------+\n",
            "| Processes:                                                       GPU Memory |\n",
            "|  GPU       PID   Type   Process name                             Usage      |\n",
            "|=============================================================================|\n",
            "|  No running processes found                                                 |\n",
            "+-----------------------------------------------------------------------------+\n"
          ],
          "name": "stdout"
        }
      ]
    },
    {
      "cell_type": "code",
      "metadata": {
        "id": "IL7QdHbH7ptO",
        "colab_type": "code",
        "colab": {}
      },
      "source": [
        "# Other imports\n",
        "from tensorflow.keras.layers import *\n",
        "from tensorflow.keras.models import *\n",
        "from imutils import build_montages\n",
        "from sklearn.utils import shuffle \n",
        "from tqdm import tqdm\n",
        "import matplotlib.pyplot as plt\n",
        "import numpy as np\n",
        "import cv2"
      ],
      "execution_count": 0,
      "outputs": []
    },
    {
      "cell_type": "code",
      "metadata": {
        "id": "tOxVL1Qz61pZ",
        "colab_type": "code",
        "colab": {
          "base_uri": "https://localhost:8080/",
          "height": 170
        },
        "outputId": "fc6941ed-2115-4b1d-e5fb-64c950235b56"
      },
      "source": [
        "# Load data\n",
        "((X_train, _), (X_test, _)) = tf.keras.datasets.fashion_mnist.load_data()\n",
        "X_train.shape, X_test.shape"
      ],
      "execution_count": 3,
      "outputs": [
        {
          "output_type": "stream",
          "text": [
            "Downloading data from https://storage.googleapis.com/tensorflow/tf-keras-datasets/train-labels-idx1-ubyte.gz\n",
            "32768/29515 [=================================] - 0s 0us/step\n",
            "Downloading data from https://storage.googleapis.com/tensorflow/tf-keras-datasets/train-images-idx3-ubyte.gz\n",
            "26427392/26421880 [==============================] - 0s 0us/step\n",
            "Downloading data from https://storage.googleapis.com/tensorflow/tf-keras-datasets/t10k-labels-idx1-ubyte.gz\n",
            "8192/5148 [===============================================] - 0s 0us/step\n",
            "Downloading data from https://storage.googleapis.com/tensorflow/tf-keras-datasets/t10k-images-idx3-ubyte.gz\n",
            "4423680/4422102 [==============================] - 0s 0us/step\n"
          ],
          "name": "stdout"
        },
        {
          "output_type": "execute_result",
          "data": {
            "text/plain": [
              "((60000, 28, 28), (10000, 28, 28))"
            ]
          },
          "metadata": {
            "tags": []
          },
          "execution_count": 3
        }
      ]
    },
    {
      "cell_type": "code",
      "metadata": {
        "id": "SzylG4pp7CoC",
        "colab_type": "code",
        "colab": {}
      },
      "source": [
        "# Add a channel dimension so that it is compatible with Conv2D\n",
        "X_train = X_train.reshape(-1, 28, 28, 1)\n",
        "X_test = X_test.reshape(-1, 28, 28, 1)"
      ],
      "execution_count": 0,
      "outputs": []
    },
    {
      "cell_type": "code",
      "metadata": {
        "id": "LW9QNjXw7J9n",
        "colab_type": "code",
        "colab": {}
      },
      "source": [
        "# Combine the train and test images and scale the the image pixel values to [-1, 1]\n",
        "trainImages = np.concatenate([X_train, X_test])\n",
        "trainImages = (trainImages.astype(\"float\") - 127.5) / 127.5"
      ],
      "execution_count": 0,
      "outputs": []
    },
    {
      "cell_type": "code",
      "metadata": {
        "id": "tXPxzNQL7l8K",
        "colab_type": "code",
        "colab": {}
      },
      "source": [
        "# Define the Hyperparameters\n",
        "latent_dim = 100\n",
        "height = 28\n",
        "width = 28\n",
        "nb_channels = 1"
      ],
      "execution_count": 0,
      "outputs": []
    },
    {
      "cell_type": "code",
      "metadata": {
        "id": "G4I6oLeX7xVa",
        "colab_type": "code",
        "colab": {}
      },
      "source": [
        "# Generator\n",
        "def generator_network():\n",
        "    generator = Sequential()\n",
        "    inputShape = (7, 7, 64)\n",
        "    chanDim = -1\n",
        "\n",
        "    generator.add(Dense(input_dim=latent_dim, units=512))\n",
        "    generator.add(LeakyReLU())\n",
        "    generator.add(BatchNormalization())\n",
        "\n",
        "    generator.add(Dense(7 * 7 * 64))\n",
        "    generator.add(LeakyReLU())\n",
        "    generator.add(BatchNormalization())\n",
        "\n",
        "    generator.add(Reshape(inputShape))\n",
        "    generator.add(Conv2DTranspose(32, (5, 5), strides=(2, 2),\n",
        "        padding=\"same\"))\n",
        "    generator.add((LeakyReLU()))\n",
        "    generator.add(BatchNormalization(axis=chanDim))\n",
        "\n",
        "    generator.add(Conv2DTranspose(nb_channels, (5, 5), strides=(2, 2),\n",
        "        padding=\"same\", activation=\"tanh\"))\n",
        "\n",
        "    return generator"
      ],
      "execution_count": 0,
      "outputs": []
    },
    {
      "cell_type": "code",
      "metadata": {
        "id": "d5B5vEWY7y5M",
        "colab_type": "code",
        "colab": {
          "base_uri": "https://localhost:8080/",
          "height": 527
        },
        "outputId": "c471254c-517f-4bc0-b116-54802cc3361c"
      },
      "source": [
        "# Instantiate the Generator network\n",
        "generator = generator_network()\n",
        "generator.summary()"
      ],
      "execution_count": 18,
      "outputs": [
        {
          "output_type": "stream",
          "text": [
            "Model: \"sequential_2\"\n",
            "_________________________________________________________________\n",
            "Layer (type)                 Output Shape              Param #   \n",
            "=================================================================\n",
            "dense_4 (Dense)              (None, 512)               51712     \n",
            "_________________________________________________________________\n",
            "leaky_re_lu_6 (LeakyReLU)    (None, 512)               0         \n",
            "_________________________________________________________________\n",
            "batch_normalization_3 (Batch (None, 512)               2048      \n",
            "_________________________________________________________________\n",
            "dense_5 (Dense)              (None, 3136)              1608768   \n",
            "_________________________________________________________________\n",
            "leaky_re_lu_7 (LeakyReLU)    (None, 3136)              0         \n",
            "_________________________________________________________________\n",
            "batch_normalization_4 (Batch (None, 3136)              12544     \n",
            "_________________________________________________________________\n",
            "reshape_1 (Reshape)          (None, 7, 7, 64)          0         \n",
            "_________________________________________________________________\n",
            "conv2d_transpose_2 (Conv2DTr (None, 14, 14, 32)        51232     \n",
            "_________________________________________________________________\n",
            "leaky_re_lu_8 (LeakyReLU)    (None, 14, 14, 32)        0         \n",
            "_________________________________________________________________\n",
            "batch_normalization_5 (Batch (None, 14, 14, 32)        128       \n",
            "_________________________________________________________________\n",
            "conv2d_transpose_3 (Conv2DTr (None, 28, 28, 1)         801       \n",
            "=================================================================\n",
            "Total params: 1,727,233\n",
            "Trainable params: 1,719,873\n",
            "Non-trainable params: 7,360\n",
            "_________________________________________________________________\n"
          ],
          "name": "stdout"
        }
      ]
    },
    {
      "cell_type": "code",
      "metadata": {
        "id": "pDZxoMb58IpK",
        "colab_type": "code",
        "colab": {}
      },
      "source": [
        "# Discriminator\n",
        "def disc_network():\n",
        "    disc = Sequential()\n",
        "    inputShape = (height, width, nb_channels)\n",
        "\n",
        "    disc.add(Conv2D(32, (5, 5), padding=\"same\", strides=(2, 2),\n",
        "        input_shape=inputShape))\n",
        "    disc.add(LeakyReLU(alpha=0.2))\n",
        "\n",
        "    disc.add(Conv2D(64, (5, 5), padding=\"same\", strides=(2, 2)))\n",
        "    disc.add(LeakyReLU(alpha=0.2))\n",
        "\n",
        "    disc.add(Flatten())\n",
        "    disc.add(Dense(512))\n",
        "    disc.add(LeakyReLU(alpha=0.2))\n",
        "    disc.add(Dropout(0.3))\n",
        "    disc.add(Dense(1))\n",
        "    disc.add(Activation(\"sigmoid\"))\n",
        "    \n",
        "    return disc"
      ],
      "execution_count": 0,
      "outputs": []
    },
    {
      "cell_type": "code",
      "metadata": {
        "id": "0sGntIQF8XjR",
        "colab_type": "code",
        "colab": {
          "base_uri": "https://localhost:8080/",
          "height": 493
        },
        "outputId": "b92b8ca0-292f-42a3-db05-63423ef063c7"
      },
      "source": [
        "# Instantiate the Discriminator network\n",
        "disc = disc_network()\n",
        "disc.summary()"
      ],
      "execution_count": 19,
      "outputs": [
        {
          "output_type": "stream",
          "text": [
            "Model: \"sequential_3\"\n",
            "_________________________________________________________________\n",
            "Layer (type)                 Output Shape              Param #   \n",
            "=================================================================\n",
            "conv2d_2 (Conv2D)            (None, 14, 14, 32)        832       \n",
            "_________________________________________________________________\n",
            "leaky_re_lu_9 (LeakyReLU)    (None, 14, 14, 32)        0         \n",
            "_________________________________________________________________\n",
            "conv2d_3 (Conv2D)            (None, 7, 7, 64)          51264     \n",
            "_________________________________________________________________\n",
            "leaky_re_lu_10 (LeakyReLU)   (None, 7, 7, 64)          0         \n",
            "_________________________________________________________________\n",
            "flatten_1 (Flatten)          (None, 3136)              0         \n",
            "_________________________________________________________________\n",
            "dense_6 (Dense)              (None, 512)               1606144   \n",
            "_________________________________________________________________\n",
            "leaky_re_lu_11 (LeakyReLU)   (None, 512)               0         \n",
            "_________________________________________________________________\n",
            "dropout_1 (Dropout)          (None, 512)               0         \n",
            "_________________________________________________________________\n",
            "dense_7 (Dense)              (None, 1)                 513       \n",
            "_________________________________________________________________\n",
            "activation_1 (Activation)    (None, 1)                 0         \n",
            "=================================================================\n",
            "Total params: 1,658,753\n",
            "Trainable params: 1,658,753\n",
            "Non-trainable params: 0\n",
            "_________________________________________________________________\n"
          ],
          "name": "stdout"
        }
      ]
    },
    {
      "cell_type": "code",
      "metadata": {
        "id": "Hxuad7i28dUr",
        "colab_type": "code",
        "colab": {}
      },
      "source": [
        "# Optimizer for the Disc\n",
        "disc_opt = tf.keras.optimizers.RMSprop(lr=0.0008, clipvalue=1.0, decay=1e-8)\n",
        "disc.compile(optimizer=disc_opt, loss=\"binary_crossentropy\")"
      ],
      "execution_count": 0,
      "outputs": []
    },
    {
      "cell_type": "code",
      "metadata": {
        "id": "1Nrlh3Tw8hJq",
        "colab_type": "code",
        "colab": {}
      },
      "source": [
        "# GAN\n",
        "disc.trainable = False\n",
        "gan_input = Input(shape=(latent_dim, ))\n",
        "gan_output = disc(generator(gan_input))\n",
        "gan = Model(gan_input, gan_output)\n",
        "\n",
        "gan_opt = tf.keras.optimizers.RMSprop(lr=0.0008, clipvalue=1.0, decay=1e-8)\n",
        "gan.compile(loss=\"binary_crossentropy\", optimizer=gan_opt)"
      ],
      "execution_count": 0,
      "outputs": []
    },
    {
      "cell_type": "code",
      "metadata": {
        "id": "9m5MrmSt8m2I",
        "colab_type": "code",
        "colab": {
          "base_uri": "https://localhost:8080/",
          "height": 255
        },
        "outputId": "43312309-ae39-4586-b99d-642116acced8"
      },
      "source": [
        "# Summary of the GAN architecture\n",
        "gan.summary()"
      ],
      "execution_count": 22,
      "outputs": [
        {
          "output_type": "stream",
          "text": [
            "Model: \"model_1\"\n",
            "_________________________________________________________________\n",
            "Layer (type)                 Output Shape              Param #   \n",
            "=================================================================\n",
            "input_2 (InputLayer)         [(None, 100)]             0         \n",
            "_________________________________________________________________\n",
            "sequential_2 (Sequential)    (None, 28, 28, 1)         1727233   \n",
            "_________________________________________________________________\n",
            "sequential_3 (Sequential)    (None, 1)                 1658753   \n",
            "=================================================================\n",
            "Total params: 3,385,986\n",
            "Trainable params: 1,719,873\n",
            "Non-trainable params: 1,666,113\n",
            "_________________________________________________________________\n"
          ],
          "name": "stdout"
        }
      ]
    },
    {
      "cell_type": "code",
      "metadata": {
        "id": "-v6L5Zv48yh2",
        "colab_type": "code",
        "colab": {}
      },
      "source": [
        "# More hyperparameters\n",
        "epochs = 10000\n",
        "batch_size = 20"
      ],
      "execution_count": 0,
      "outputs": []
    },
    {
      "cell_type": "code",
      "metadata": {
        "id": "M1OMjLS581nQ",
        "colab_type": "code",
        "colab": {
          "base_uri": "https://localhost:8080/",
          "height": 374
        },
        "outputId": "a85e1428-2bbd-4f7f-80fe-16943c62703b"
      },
      "source": [
        "start = 0\n",
        "for epoch in tqdm(range(epochs)):\n",
        "    # Sample random noise from a normal distribution\n",
        "    benchmark_noise = np.random.normal(size=(batch_size, latent_dim))\n",
        "    # Map this noise to images via the generator network\n",
        "    generated_images = generator.predict(benchmark_noise)\n",
        "    \n",
        "    # Calculate where to stop the current epoch, segregate the current batch\n",
        "    # of real images and combine them with the fake ones\n",
        "    stop = start + batch_size\n",
        "    real_images = trainImages[start:stop]\n",
        "    combined_images = np.concatenate([generated_images, real_images])\n",
        "    \n",
        "    # 1 -> Fake images, 0 -> Real images\n",
        "    # Add a bit of random noise to the labels\n",
        "    labels = np.array(([1] * batch_size) + ([0] * batch_size)).astype(\"float\")\n",
        "    labels += 0.05 * np.random.random(labels.shape)\n",
        "    \n",
        "    # Shuffle the datapoints of the newly created dataset\n",
        "    (combined_images, labels) = shuffle(combined_images, labels)\n",
        "    \n",
        "    # Train the discriminator on these new dataset\n",
        "    d_loss = disc.train_on_batch(combined_images, labels)\n",
        "    \n",
        "    # Again sample random noise from a normal distribution &\n",
        "    # set the labels to such that they resemble real images to fool\n",
        "    # discriminator\n",
        "    random_latent_vectors = np.random.normal(size=(batch_size, latent_dim))\n",
        "    fake_labels = np.array([0] * batch_size)\n",
        "    \n",
        "    # Train the GAN with this random noise and fake labels, but only\n",
        "    # update the weights of generator\n",
        "    a_loss = gan.train_on_batch(random_latent_vectors, fake_labels)\n",
        "    \n",
        "    # Set the next batch\n",
        "    start += batch_size\n",
        "    if start > len(trainImages) - batch_size:\n",
        "        start = 0\n",
        "    \n",
        "    # Logging\n",
        "    if epoch % 500 == 0:\n",
        "        print(f\"Step: {epoch} Disc Loss: {d_loss} Adv Loss: {a_loss}\")\n",
        "        images = ((generated_images * 127.5) + 127.5).astype(\"int\")\n",
        "        images = np.repeat(images, 3, axis=-1)\n",
        "        vis = build_montages(images, (28, 28), (4, 5))[0]\n",
        "        cv2.imwrite(\"vis\" + str(epoch) + \".png\", vis)"
      ],
      "execution_count": 25,
      "outputs": [
        {
          "output_type": "stream",
          "text": [
            "  0%|          | 4/10000 [00:08<15:32:40,  5.60s/it]"
          ],
          "name": "stderr"
        },
        {
          "output_type": "stream",
          "text": [
            "Step: 0 Disc Loss: 0.7264326214790344 Adv Loss: 0.16824400424957275\n"
          ],
          "name": "stdout"
        },
        {
          "output_type": "stream",
          "text": [
            "  5%|▌         | 505/10000 [00:26<05:59, 26.43it/s]"
          ],
          "name": "stderr"
        },
        {
          "output_type": "stream",
          "text": [
            "Step: 500 Disc Loss: 0.6675554513931274 Adv Loss: 1.6335111856460571\n"
          ],
          "name": "stdout"
        },
        {
          "output_type": "stream",
          "text": [
            " 10%|█         | 1006/10000 [00:45<05:42, 26.26it/s]"
          ],
          "name": "stderr"
        },
        {
          "output_type": "stream",
          "text": [
            "Step: 1000 Disc Loss: 0.4600725769996643 Adv Loss: 1.180761456489563\n"
          ],
          "name": "stdout"
        },
        {
          "output_type": "stream",
          "text": [
            " 15%|█▌        | 1504/10000 [01:04<05:27, 25.93it/s]"
          ],
          "name": "stderr"
        },
        {
          "output_type": "stream",
          "text": [
            "Step: 1500 Disc Loss: 0.37954431772232056 Adv Loss: 1.4102908372879028\n"
          ],
          "name": "stdout"
        },
        {
          "output_type": "stream",
          "text": [
            " 20%|██        | 2005/10000 [01:23<05:02, 26.45it/s]"
          ],
          "name": "stderr"
        },
        {
          "output_type": "stream",
          "text": [
            "Step: 2000 Disc Loss: 0.5361297130584717 Adv Loss: 2.2946715354919434\n"
          ],
          "name": "stdout"
        },
        {
          "output_type": "stream",
          "text": [
            " 25%|██▌       | 2503/10000 [01:42<05:14, 23.87it/s]"
          ],
          "name": "stderr"
        },
        {
          "output_type": "stream",
          "text": [
            "Step: 2500 Disc Loss: 0.4684022068977356 Adv Loss: 2.108780860900879\n"
          ],
          "name": "stdout"
        },
        {
          "output_type": "stream",
          "text": [
            " 30%|███       | 3004/10000 [02:01<04:23, 26.58it/s]"
          ],
          "name": "stderr"
        },
        {
          "output_type": "stream",
          "text": [
            "Step: 3000 Disc Loss: 0.33347785472869873 Adv Loss: 2.1794848442077637\n"
          ],
          "name": "stdout"
        },
        {
          "output_type": "stream",
          "text": [
            " 35%|███▌      | 3505/10000 [02:20<04:00, 27.06it/s]"
          ],
          "name": "stderr"
        },
        {
          "output_type": "stream",
          "text": [
            "Step: 3500 Disc Loss: 0.3128819167613983 Adv Loss: 2.511215925216675\n"
          ],
          "name": "stdout"
        },
        {
          "output_type": "stream",
          "text": [
            " 40%|████      | 4006/10000 [02:40<03:54, 25.52it/s]"
          ],
          "name": "stderr"
        },
        {
          "output_type": "stream",
          "text": [
            "Step: 4000 Disc Loss: 0.3326495587825775 Adv Loss: 1.757765769958496\n"
          ],
          "name": "stdout"
        },
        {
          "output_type": "stream",
          "text": [
            " 45%|████▌     | 4504/10000 [02:59<03:25, 26.76it/s]"
          ],
          "name": "stderr"
        },
        {
          "output_type": "stream",
          "text": [
            "Step: 4500 Disc Loss: 0.4337260127067566 Adv Loss: 1.7907596826553345\n"
          ],
          "name": "stdout"
        },
        {
          "output_type": "stream",
          "text": [
            " 50%|█████     | 5005/10000 [03:18<03:12, 25.96it/s]"
          ],
          "name": "stderr"
        },
        {
          "output_type": "stream",
          "text": [
            "Step: 5000 Disc Loss: 0.28850388526916504 Adv Loss: 1.5960016250610352\n"
          ],
          "name": "stdout"
        },
        {
          "output_type": "stream",
          "text": [
            " 55%|█████▌    | 5506/10000 [03:37<02:46, 26.94it/s]"
          ],
          "name": "stderr"
        },
        {
          "output_type": "stream",
          "text": [
            "Step: 5500 Disc Loss: 0.4472404420375824 Adv Loss: 1.688951849937439\n"
          ],
          "name": "stdout"
        },
        {
          "output_type": "stream",
          "text": [
            " 60%|██████    | 6004/10000 [03:56<02:25, 27.54it/s]"
          ],
          "name": "stderr"
        },
        {
          "output_type": "stream",
          "text": [
            "Step: 6000 Disc Loss: 0.2737448215484619 Adv Loss: 2.5686511993408203\n"
          ],
          "name": "stdout"
        },
        {
          "output_type": "stream",
          "text": [
            " 65%|██████▌   | 6505/10000 [04:15<02:15, 25.83it/s]"
          ],
          "name": "stderr"
        },
        {
          "output_type": "stream",
          "text": [
            "Step: 6500 Disc Loss: 0.43683165311813354 Adv Loss: 2.346729278564453\n"
          ],
          "name": "stdout"
        },
        {
          "output_type": "stream",
          "text": [
            " 70%|███████   | 7006/10000 [04:34<01:49, 27.32it/s]"
          ],
          "name": "stderr"
        },
        {
          "output_type": "stream",
          "text": [
            "Step: 7000 Disc Loss: 0.2780314087867737 Adv Loss: 1.9535291194915771\n"
          ],
          "name": "stdout"
        },
        {
          "output_type": "stream",
          "text": [
            " 75%|███████▌  | 7504/10000 [04:53<01:32, 26.94it/s]"
          ],
          "name": "stderr"
        },
        {
          "output_type": "stream",
          "text": [
            "Step: 7500 Disc Loss: 0.35587388277053833 Adv Loss: 2.101675271987915\n"
          ],
          "name": "stdout"
        },
        {
          "output_type": "stream",
          "text": [
            " 80%|████████  | 8005/10000 [05:12<01:16, 26.15it/s]"
          ],
          "name": "stderr"
        },
        {
          "output_type": "stream",
          "text": [
            "Step: 8000 Disc Loss: 0.44942203164100647 Adv Loss: 2.268673896789551\n"
          ],
          "name": "stdout"
        },
        {
          "output_type": "stream",
          "text": [
            " 85%|████████▌ | 8506/10000 [05:31<00:55, 26.89it/s]"
          ],
          "name": "stderr"
        },
        {
          "output_type": "stream",
          "text": [
            "Step: 8500 Disc Loss: 0.2834746837615967 Adv Loss: 1.730851173400879\n"
          ],
          "name": "stdout"
        },
        {
          "output_type": "stream",
          "text": [
            " 90%|█████████ | 9004/10000 [05:50<00:37, 26.51it/s]"
          ],
          "name": "stderr"
        },
        {
          "output_type": "stream",
          "text": [
            "Step: 9000 Disc Loss: 0.3421613574028015 Adv Loss: 1.6488679647445679\n"
          ],
          "name": "stdout"
        },
        {
          "output_type": "stream",
          "text": [
            " 95%|█████████▌| 9505/10000 [06:09<00:18, 26.14it/s]"
          ],
          "name": "stderr"
        },
        {
          "output_type": "stream",
          "text": [
            "Step: 9500 Disc Loss: 0.3749707341194153 Adv Loss: 1.6673446893692017\n"
          ],
          "name": "stdout"
        },
        {
          "output_type": "stream",
          "text": [
            "100%|██████████| 10000/10000 [06:28<00:00, 25.72it/s]\n"
          ],
          "name": "stderr"
        }
      ]
    },
    {
      "cell_type": "markdown",
      "metadata": {
        "id": "PE6PpKI-9n-d",
        "colab_type": "text"
      },
      "source": [
        "## Generate images using the trained generator from random noise"
      ]
    },
    {
      "cell_type": "code",
      "metadata": {
        "id": "uHQaTTWv-0oQ",
        "colab_type": "code",
        "colab": {
          "base_uri": "https://localhost:8080/",
          "height": 34
        },
        "outputId": "eec86ed6-e6e9-4c05-a108-58922f7d9fd6"
      },
      "source": [
        "# Sample random noise from a normal distribution\n",
        "benchmark_noise = np.random.normal(size=(batch_size, latent_dim))\n",
        "# Map this noise to images via the generator network\n",
        "generated_images = generator.predict(benchmark_noise)\n",
        "# Scale back\n",
        "images = ((generated_images * 127.5) + 127.5).astype(\"int\")\n",
        "images.shape"
      ],
      "execution_count": 26,
      "outputs": [
        {
          "output_type": "execute_result",
          "data": {
            "text/plain": [
              "(20, 28, 28, 1)"
            ]
          },
          "metadata": {
            "tags": []
          },
          "execution_count": 26
        }
      ]
    },
    {
      "cell_type": "code",
      "metadata": {
        "id": "mofASNk8_EFA",
        "colab_type": "code",
        "colab": {
          "base_uri": "https://localhost:8080/",
          "height": 265
        },
        "outputId": "f2f50bbd-d1f8-4855-e635-d9fa426ba073"
      },
      "source": [
        "# How do the images look like?\n",
        "random_idx = np.random.choice(images.shape[0], 1)\n",
        "image_1 = images[random_idx].reshape(28, 28)\n",
        "plt.imshow(image_1, cmap=plt.cm.binary)\n",
        "plt.show()"
      ],
      "execution_count": 32,
      "outputs": [
        {
          "output_type": "display_data",
          "data": {
            "image/png": "[encoded data removed]",
            "text/plain": [
              "<Figure size 432x288 with 1 Axes>"
            ]
          },
          "metadata": {
            "tags": [],
            "needs_background": "light"
          }
        }
      ]
    },
    {
      "cell_type": "markdown",
      "metadata": {
        "id": "wlHCVh3F9v4c",
        "colab_type": "text"
      },
      "source": [
        "## Forming adversarial examples\n",
        "\n",
        "- Train a traditional image classifier\n",
        "- Form examples"
      ]
    },
    {
      "cell_type": "markdown",
      "metadata": {
        "id": "j13P4BcF9zo1",
        "colab_type": "text"
      },
      "source": [
        "## Seeing if the adversarial examples are misclassified by the Discriminator of the GAN"
      ]
    }
  ]
}