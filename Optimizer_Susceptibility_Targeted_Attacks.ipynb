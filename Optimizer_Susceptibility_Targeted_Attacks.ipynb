{
  "nbformat": 4,
  "nbformat_minor": 0,
  "metadata": {
    "colab": {
      "name": "scratchpad",
      "provenance": [],
      "include_colab_link": true
    },
    "kernelspec": {
      "display_name": "Python 3",
      "name": "python3"
    },
    "accelerator": "GPU"
  },
  "cells": [
    {
      "cell_type": "markdown",
      "metadata": {
        "id": "view-in-github",
        "colab_type": "text"
      },
      "source": [
        "<a href=\"https://colab.research.google.com/github/sayakpaul/Image-Adversaries-101/blob/master/Optimizer_Susceptibility_Targeted_Attacks.ipynb\" target=\"_parent\"><img src=\"https://colab.research.google.com/assets/colab-badge.svg\" alt=\"Open In Colab\"/></a>"
      ]
    },
    {
      "cell_type": "markdown",
      "metadata": {
        "id": "ZwphmGCxlMjR",
        "colab_type": "text"
      },
      "source": [
        "Contents of this notebook are referred from here: https://adversarial-ml-tutorial.org/introduction/."
      ]
    },
    {
      "cell_type": "markdown",
      "metadata": {
        "id": "AFsmrqZMnAYg",
        "colab_type": "text"
      },
      "source": [
        "## Setup"
      ]
    },
    {
      "cell_type": "code",
      "metadata": {
        "colab_type": "code",
        "id": "lIYdn1woOS1n",
        "colab": {}
      },
      "source": [
        "!pip install wandb -qq"
      ],
      "execution_count": null,
      "outputs": []
    },
    {
      "cell_type": "code",
      "metadata": {
        "id": "Nk_sY6mplOiG",
        "colab_type": "code",
        "colab": {}
      },
      "source": [
        "import wandb\n",
        "wandb.login()"
      ],
      "execution_count": null,
      "outputs": []
    },
    {
      "cell_type": "code",
      "metadata": {
        "id": "Z8uK_jiGlRvy",
        "colab_type": "code",
        "colab": {}
      },
      "source": [
        "import tensorflow as tf\n",
        "print(tf.__version__)"
      ],
      "execution_count": null,
      "outputs": []
    },
    {
      "cell_type": "code",
      "metadata": {
        "id": "S_1Uhr2MlTfs",
        "colab_type": "code",
        "colab": {}
      },
      "source": [
        "from tensorflow.keras.applications.resnet50 import preprocess_input\n",
        "from tensorflow.keras.applications.resnet50 import decode_predictions\n",
        "import matplotlib.pyplot as plt\n",
        "import numpy as np\n",
        "import cv2"
      ],
      "execution_count": null,
      "outputs": []
    },
    {
      "cell_type": "markdown",
      "metadata": {
        "id": "8wLTk-UfnDR3",
        "colab_type": "text"
      },
      "source": [
        "## Utils"
      ]
    },
    {
      "cell_type": "code",
      "metadata": {
        "id": "1y2U91d2lU6k",
        "colab_type": "code",
        "colab": {}
      },
      "source": [
        "def show_image(image_path):\n",
        "    image_pixels = plt.imread(image_path)\n",
        "    plt.imshow(image_pixels)\n",
        "    plt.show()\n",
        "    return image_pixels"
      ],
      "execution_count": null,
      "outputs": []
    },
    {
      "cell_type": "code",
      "metadata": {
        "id": "E3zyW5TJlgkl",
        "colab_type": "code",
        "colab": {}
      },
      "source": [
        "def preprocess_image(image_pixels):\n",
        "    image_pixels = preprocess_input(image_pixels)\n",
        "    image_pixels = cv2.resize(image_pixels, (224, 224))\n",
        "    image_pixels = np.expand_dims(image_pixels, axis=0)\n",
        "\n",
        "    return image_pixels"
      ],
      "execution_count": null,
      "outputs": []
    },
    {
      "cell_type": "markdown",
      "metadata": {
        "id": "9Y8jwz3rnGgV",
        "colab_type": "text"
      },
      "source": [
        "## Pretrained network and an image to play with"
      ]
    },
    {
      "cell_type": "code",
      "metadata": {
        "id": "A0Nj2lezliFl",
        "colab_type": "code",
        "colab": {}
      },
      "source": [
        "# Load ResNet50\n",
        "resnet50 = tf.keras.applications.ResNet50(weights=\"imagenet\")"
      ],
      "execution_count": null,
      "outputs": []
    },
    {
      "cell_type": "code",
      "metadata": {
        "id": "XEk_RtG6ljqN",
        "colab_type": "code",
        "colab": {}
      },
      "source": [
        "!wget https://adversarial-ml-tutorial.org/introduction/pig.jpg"
      ],
      "execution_count": null,
      "outputs": []
    },
    {
      "cell_type": "markdown",
      "metadata": {
        "id": "wy_qRYN9nL5d",
        "colab_type": "text"
      },
      "source": [
        "## Pretrained network and an image to play with"
      ]
    },
    {
      "cell_type": "code",
      "metadata": {
        "id": "a1jQ7vFwllS2",
        "colab_type": "code",
        "colab": {}
      },
      "source": [
        "# Preprocess the image\n",
        "sample_image = show_image(\"pig.jpg\")\n",
        "preprocessed_image = preprocess_image(sample_image)\n",
        "\n",
        "# Run inference\n",
        "original_preds = resnet50.predict(preprocessed_image)\n",
        "preds_decoded = decode_predictions(original_preds, top=3)[0]\n",
        "print('Predicted:', preds_decoded)"
      ],
      "execution_count": null,
      "outputs": []
    },
    {
      "cell_type": "markdown",
      "metadata": {
        "id": "9i9d0rEHnPex",
        "colab_type": "text"
      },
      "source": [
        "## Utils for generating a perturbed image for tageted attacks"
      ]
    },
    {
      "cell_type": "code",
      "metadata": {
        "id": "8BEMIKBBlm9u",
        "colab_type": "code",
        "colab": {}
      },
      "source": [
        "def preprocess_image_without(image_pixels):\n",
        "    image_pixels = cv2.resize(image_pixels, (224, 224))\n",
        "    image_pixels = np.expand_dims(image_pixels, axis=0)\n",
        "\n",
        "    return image_pixels"
      ],
      "execution_count": null,
      "outputs": []
    },
    {
      "cell_type": "code",
      "metadata": {
        "id": "rnv_YXGQltLH",
        "colab_type": "code",
        "colab": {}
      },
      "source": [
        "# Clipping utility so that the pixel values stay within [0,1]\n",
        "EPS = 2./255\n",
        "\n",
        "def clip_eps(delta_tensor):\n",
        "    return tf.clip_by_value(delta_tensor, clip_value_min=-EPS, clip_value_max=EPS)"
      ],
      "execution_count": null,
      "outputs": []
    },
    {
      "cell_type": "code",
      "metadata": {
        "id": "18pjc-b7lvKn",
        "colab_type": "code",
        "colab": {}
      },
      "source": [
        "def generate_adversary(iterations, source_image, delta, \n",
        "                       true_class_idx, target_index, optimizer):\n",
        "    scc_loss = tf.keras.losses.SparseCategoricalCrossentropy()\n",
        "\n",
        "    for t in range(iterations):\n",
        "        with tf.GradientTape() as tape:\n",
        "            tape.watch(delta)\n",
        "            inp = preprocess_input(source_image + delta)\n",
        "            predictions = resnet50(inp, training=False)\n",
        "            loss = (- scc_loss(tf.convert_to_tensor([true_class_idx]), predictions) + \n",
        "\t                    scc_loss(tf.convert_to_tensor([target_index]), predictions))\n",
        "        if t % 20 == 0:\n",
        "            print(t, loss.numpy())\n",
        "    \n",
        "        # Get the gradients\n",
        "        gradients = tape.gradient(loss, delta)\n",
        "        \n",
        "        # Update the weights\n",
        "        optimizer.apply_gradients([(gradients, delta)])\n",
        "\n",
        "        # Clip so that the delta values are within [0,1]\n",
        "        delta.assign_add(clip_eps(delta))\n",
        "\n",
        "        # Log to wandb\n",
        "        wandb.log({'loss': loss.numpy()})\n",
        "        wandb.log({'delta': wandb.Image(50*delta.numpy().squeeze()+0.5)})\n",
        "        wandb.log({'perturbed_image': \n",
        "                   wandb.Image((source_image + delta).numpy().squeeze()/255)})\n",
        "\n",
        "    return delta"
      ],
      "execution_count": null,
      "outputs": []
    },
    {
      "cell_type": "code",
      "metadata": {
        "id": "RdXdkTcgmP6j",
        "colab_type": "code",
        "colab": {}
      },
      "source": [
        "def log_final_results_wandb(sample_image, original_predicted_label, perturbed_image,\n",
        "                            adv_predicted_label, delta):\n",
        "    plt.figure(figsize=(14, 14))\n",
        "    plt.subplot(1, 3, 1)\n",
        "    plt.imshow(sample_image)\n",
        "    plt.title(f'Original Image predicted as: \\n{original_predicted_label}')\n",
        "    plt.subplot(1, 3, 2)\n",
        "    plt.imshow(perturbed_image)\n",
        "    plt.title(f'Perturbed Image predicted as: \\n{adv_predicted_label}')\n",
        "    plt.subplot(1, 3, 3)\n",
        "    plt.imshow(delta)\n",
        "    plt.title('delta')\n",
        "    plt.savefig('results.png', bbox_inches='tight', pad_inches=0)\n",
        "    wandb.log({'final_results': wandb.Image('results.png')})"
      ],
      "execution_count": null,
      "outputs": []
    },
    {
      "cell_type": "code",
      "metadata": {
        "id": "xQYj-cL9mSbj",
        "colab_type": "code",
        "colab": {}
      },
      "source": [
        "def prepare_image(img_path):\n",
        "    # Load and preprocess image but a but without any `preprocess_input`\n",
        "    preprocessed_image = preprocess_image_without(plt.imread(img_path))\n",
        "\n",
        "    # Convert the source image to a TensorFlow tensor and initialize\n",
        "    # delta\n",
        "    image_tensor = tf.constant(preprocessed_image, dtype=tf.float32)\n",
        "    delta = tf.Variable(tf.zeros_like(image_tensor), trainable=True)\n",
        "\n",
        "    return image_tensor, delta"
      ],
      "execution_count": null,
      "outputs": []
    },
    {
      "cell_type": "markdown",
      "metadata": {
        "id": "jNZMIzMhnZAH",
        "colab_type": "text"
      },
      "source": [
        "## Targeted attacks"
      ]
    },
    {
      "cell_type": "markdown",
      "metadata": {
        "id": "X58heJ0znbh7",
        "colab_type": "text"
      },
      "source": [
        "### Adam"
      ]
    },
    {
      "cell_type": "code",
      "metadata": {
        "id": "cYb5oSO6mUTs",
        "colab_type": "code",
        "colab": {}
      },
      "source": [
        "# Generate a perturbed image\n",
        "wandb.init(entity='authors', project='adv-dl', id='targeted-attack-adam-I')\n",
        "image_tensor, delta = prepare_image('pig.jpg')\n",
        "delta_optimized = generate_adversary(350, image_tensor, delta, \n",
        "    341, 189,\n",
        "    optimizer=tf.keras.optimizers.Adam(learning_rate=0.1))"
      ],
      "execution_count": null,
      "outputs": []
    },
    {
      "cell_type": "code",
      "metadata": {
        "id": "oKYHCCVKmfwd",
        "colab_type": "code",
        "colab": {}
      },
      "source": [
        "# Parse the predictions\n",
        "original_predicted_label = decode_predictions(original_preds, top=3)[0][0][1]\n",
        "adv_preds = resnet50.predict(preprocess_input(image_tensor + delta_optimized))\n",
        "adv_predicted_label = decode_predictions(adv_preds, top=3)[0][0][1]\n",
        "\n",
        "print(\"Original image predicted as \",original_predicted_label)\n",
        "print(\"Perturbed image predicted as \",adv_predicted_label)\n",
        "\n",
        "log_final_results_wandb(sample_image, \n",
        "    original_predicted_label, \n",
        "    (image_tensor + delta_optimized).numpy().squeeze()/255,\n",
        "    adv_predicted_label, \n",
        "    50*delta_optimized.numpy().squeeze()+0.5\n",
        ")"
      ],
      "execution_count": null,
      "outputs": []
    },
    {
      "cell_type": "markdown",
      "metadata": {
        "id": "ZqkDgI8Unhgg",
        "colab_type": "text"
      },
      "source": [
        "### SGD"
      ]
    },
    {
      "cell_type": "code",
      "metadata": {
        "id": "cNZduw-NndN5",
        "colab_type": "code",
        "colab": {}
      },
      "source": [
        "# Generate a perturbed image\n",
        "wandb.init(entity='authors', project='adv-dl', id='targeted-attack-sgd-I')\n",
        "image_tensor, delta = prepare_image('pig.jpg')\n",
        "delta_optimized = generate_adversary(350, image_tensor, delta, \n",
        "    341, 189,\n",
        "    optimizer=tf.keras.optimizers.SGD(learning_rate=0.1))"
      ],
      "execution_count": null,
      "outputs": []
    },
    {
      "cell_type": "code",
      "metadata": {
        "id": "lS-DvgZznoU2",
        "colab_type": "code",
        "colab": {}
      },
      "source": [
        "# Parse the predictions\n",
        "original_predicted_label = decode_predictions(original_preds, top=3)[0][0][1]\n",
        "adv_preds = resnet50.predict(preprocess_input(image_tensor + delta_optimized))\n",
        "adv_predicted_label = decode_predictions(adv_preds, top=3)[0][0][1]\n",
        "\n",
        "print(\"Original image predicted as \",original_predicted_label)\n",
        "print(\"Perturbed image predicted as \",adv_predicted_label)\n",
        "\n",
        "log_final_results_wandb(sample_image, \n",
        "    original_predicted_label, \n",
        "    (image_tensor + delta_optimized).numpy().squeeze()/255,\n",
        "    adv_predicted_label, \n",
        "    50*delta_optimized.numpy().squeeze()+0.5\n",
        ")"
      ],
      "execution_count": null,
      "outputs": []
    },
    {
      "cell_type": "markdown",
      "metadata": {
        "id": "w5LZjo_-ntcg",
        "colab_type": "text"
      },
      "source": [
        "### RMSProp"
      ]
    },
    {
      "cell_type": "code",
      "metadata": {
        "id": "dQS6gAWEns_g",
        "colab_type": "code",
        "colab": {}
      },
      "source": [
        "# Generate a perturbed image\n",
        "wandb.init(entity='authors', project='adv-dl', id='targeted-attack-rmsprop-I')\n",
        "image_tensor, delta = prepare_image('pig.jpg')\n",
        "delta_optimized = generate_adversary(350, image_tensor, delta, \n",
        "    341, 189,\n",
        "    optimizer=tf.keras.optimizers.RMSprop(learning_rate=0.1))"
      ],
      "execution_count": null,
      "outputs": []
    },
    {
      "cell_type": "code",
      "metadata": {
        "id": "6P8Wykh8n02A",
        "colab_type": "code",
        "colab": {}
      },
      "source": [
        "# Parse the predictions\n",
        "original_predicted_label = decode_predictions(original_preds, top=3)[0][0][1]\n",
        "adv_preds = resnet50.predict(preprocess_input(image_tensor + delta_optimized))\n",
        "adv_predicted_label = decode_predictions(adv_preds, top=3)[0][0][1]\n",
        "\n",
        "print(\"Original image predicted as \",original_predicted_label)\n",
        "print(\"Perturbed image predicted as \",adv_predicted_label)\n",
        "\n",
        "log_final_results_wandb(sample_image, \n",
        "    original_predicted_label, \n",
        "    (image_tensor + delta_optimized).numpy().squeeze()/255,\n",
        "    adv_predicted_label, \n",
        "    50*delta_optimized.numpy().squeeze()+0.5\n",
        ")"
      ],
      "execution_count": null,
      "outputs": []
    },
    {
      "cell_type": "markdown",
      "metadata": {
        "id": "bUkHkcjBn5d-",
        "colab_type": "text"
      },
      "source": [
        "### Adagrad"
      ]
    },
    {
      "cell_type": "code",
      "metadata": {
        "id": "VWGCrAkfn7Wb",
        "colab_type": "code",
        "colab": {}
      },
      "source": [
        "# Generate a perturbed image\n",
        "wandb.init(entity='authors', project='adv-dl', id='targeted-attack-adagrad-I')\n",
        "image_tensor, delta = prepare_image('pig.jpg')\n",
        "delta_optimized = generate_adversary(350, image_tensor, delta, \n",
        "    341, 189,\n",
        "    optimizer=tf.keras.optimizers.Adagrad(learning_rate=0.1))"
      ],
      "execution_count": null,
      "outputs": []
    },
    {
      "cell_type": "code",
      "metadata": {
        "id": "QZEx_QtGn_i3",
        "colab_type": "code",
        "colab": {}
      },
      "source": [
        "# Parse the predictions\n",
        "original_predicted_label = decode_predictions(original_preds, top=3)[0][0][1]\n",
        "adv_preds = resnet50.predict(preprocess_input(image_tensor + delta_optimized))\n",
        "adv_predicted_label = decode_predictions(adv_preds, top=3)[0][0][1]\n",
        "\n",
        "print(\"Original image predicted as \",original_predicted_label)\n",
        "print(\"Perturbed image predicted as \",adv_predicted_label)\n",
        "\n",
        "log_final_results_wandb(sample_image, \n",
        "    original_predicted_label, \n",
        "    (image_tensor + delta_optimized).numpy().squeeze()/255,\n",
        "    adv_predicted_label, \n",
        "    50*delta_optimized.numpy().squeeze()+0.5\n",
        ")"
      ],
      "execution_count": null,
      "outputs": []
    },
    {
      "cell_type": "markdown",
      "metadata": {
        "id": "j6BWWJggoTMw",
        "colab_type": "text"
      },
      "source": [
        "### FTRL"
      ]
    },
    {
      "cell_type": "code",
      "metadata": {
        "id": "M6uggrFLoQRn",
        "colab_type": "code",
        "colab": {}
      },
      "source": [
        "# Generate a perturbed image\n",
        "wandb.init(entity='authors', project='adv-dl', id='targeted-attack-ftrl-I')\n",
        "image_tensor, delta = prepare_image('pig.jpg')\n",
        "delta_optimized = generate_adversary(350, image_tensor, delta, \n",
        "    341, 189,\n",
        "    optimizer=tf.keras.optimizers.Ftrl(learning_rate=0.1))"
      ],
      "execution_count": null,
      "outputs": []
    },
    {
      "cell_type": "code",
      "metadata": {
        "id": "SmSQWhv3oYr9",
        "colab_type": "code",
        "colab": {}
      },
      "source": [
        "# Parse the predictions\n",
        "original_predicted_label = decode_predictions(original_preds, top=3)[0][0][1]\n",
        "adv_preds = resnet50.predict(preprocess_input(image_tensor + delta_optimized))\n",
        "adv_predicted_label = decode_predictions(adv_preds, top=3)[0][0][1]\n",
        "\n",
        "print(\"Original image predicted as \",original_predicted_label)\n",
        "print(\"Perturbed image predicted as \",adv_predicted_label)\n",
        "\n",
        "log_final_results_wandb(sample_image, \n",
        "    original_predicted_label, \n",
        "    (image_tensor + delta_optimized).numpy().squeeze()/255,\n",
        "    adv_predicted_label, \n",
        "    50*delta_optimized.numpy().squeeze()+0.5\n",
        ")"
      ],
      "execution_count": null,
      "outputs": []
    }
  ]
}